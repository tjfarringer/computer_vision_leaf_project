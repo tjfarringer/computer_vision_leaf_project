{
 "cells": [
  {
   "cell_type": "code",
   "execution_count": 13,
   "metadata": {},
   "outputs": [],
   "source": [
    "import sys\n",
    "sys.path.append(\"/home/ubuntu/fastai/\")"
   ]
  },
  {
   "cell_type": "code",
   "execution_count": 55,
   "metadata": {},
   "outputs": [],
   "source": [
    "import fastai\n",
    "from fastai.imports import *\n",
    "from fastai.transforms import *\n",
    "from fastai.conv_learner import *\n",
    "from fastai.model import *\n",
    "from fastai.dataset import *\n",
    "from fastai.sgdr import *\n",
    "from fastai.plots import *\n",
    "from glob import glob\n",
    "import pandas as pd\n",
    "import helper\n",
    "from tqdm import tqdm\n",
    "import hashlib\n",
    "from urllib import request"
   ]
  },
  {
   "cell_type": "code",
   "execution_count": 22,
   "metadata": {},
   "outputs": [],
   "source": [
    "!rm -rf data/tmp"
   ]
  },
  {
   "cell_type": "code",
   "execution_count": 15,
   "metadata": {},
   "outputs": [
    {
     "name": "stdout",
     "output_type": "stream",
     "text": [
      "The autoreload extension is already loaded. To reload it, use:\n",
      "  %reload_ext autoreload\n"
     ]
    }
   ],
   "source": [
    "%matplotlib inline\n",
    "%load_ext autoreload\n",
    "\n",
    "%autoreload 2"
   ]
  },
  {
   "cell_type": "code",
   "execution_count": 16,
   "metadata": {},
   "outputs": [],
   "source": [
    "?ImageClassifierData"
   ]
  },
  {
   "cell_type": "code",
   "execution_count": 17,
   "metadata": {},
   "outputs": [
    {
     "name": "stdout",
     "output_type": "stream",
     "text": [
      "\u001b[0m\u001b[01;31mleafsnap-dataset.tar\u001b[0m  \u001b[01;34mprocessed\u001b[0m/  \u001b[01;34mtmp\u001b[0m/  \u001b[01;34mtrain\u001b[0m/  \u001b[01;34mvalid\u001b[0m/\r\n"
     ]
    }
   ],
   "source": [
    "ls data"
   ]
  },
  {
   "cell_type": "code",
   "execution_count": 12,
   "metadata": {},
   "outputs": [],
   "source": [
    "?ImageClassifierData.from_paths"
   ]
  },
  {
   "cell_type": "code",
   "execution_count": 18,
   "metadata": {},
   "outputs": [],
   "source": [
    "def get_data(sz, bs):\n",
    "    ### doing some transformations \n",
    "    tfms = tfms_from_model(arch, sz, aug_tfms=transforms_side_on,\n",
    "                           max_zoom=1.1)\n",
    "    data = ImageClassifierData.from_paths(path='data'\n",
    "            , num_workers=8\n",
    "            , tfms=tfms, bs=bs)\n",
    "    #return data.resize(sz, 'tmp')\n",
    "    return data if sz>300 else data.resize(340, 'tmp')"
   ]
  },
  {
   "cell_type": "code",
   "execution_count": 19,
   "metadata": {},
   "outputs": [],
   "source": [
    "sz = 224 # size of image\n",
    "arch = resnet50 #model architecture.. model has 101 layers\n",
    "bs=128 # batch size; number of images to process at one time"
   ]
  },
  {
   "cell_type": "code",
   "execution_count": 23,
   "metadata": {},
   "outputs": [
    {
     "data": {
      "application/vnd.jupyter.widget-view+json": {
       "model_id": "1015b7c4ec1f4d10bc4b47798df553f8",
       "version_major": 2,
       "version_minor": 0
      },
      "text/plain": [
       "HBox(children=(IntProgress(value=0, max=6), HTML(value='')))"
      ]
     },
     "metadata": {},
     "output_type": "display_data"
    },
    {
     "name": "stdout",
     "output_type": "stream",
     "text": [
      "                                                    \n",
      "100%|██████████| 10/10 [00:11<00:00,  1.13s/it]\n",
      "100%|██████████| 2/2 [00:02<00:00,  1.31s/it]\n"
     ]
    },
    {
     "data": {
      "application/vnd.jupyter.widget-view+json": {
       "model_id": "79227cd2f6d3436bb04296729de8ba84",
       "version_major": 2,
       "version_minor": 0
      },
      "text/plain": [
       "HBox(children=(IntProgress(value=0, description='Epoch', max=3), HTML(value='')))"
      ]
     },
     "metadata": {},
     "output_type": "display_data"
    },
    {
     "name": "stdout",
     "output_type": "stream",
     "text": [
      "epoch      trn_loss   val_loss   accuracy                \n",
      "    0      1.348356   0.814414   0.707819  \n",
      "    1      0.833778   0.367185   0.851852                 \n",
      "    2      0.617642   0.264132   0.855967                 \n",
      "\n"
     ]
    },
    {
     "data": {
      "text/plain": [
       "[array([0.26413]), 0.8559670887366244]"
      ]
     },
     "execution_count": 23,
     "metadata": {},
     "output_type": "execute_result"
    }
   ],
   "source": [
    "data = get_data(sz, bs)\n",
    "learn = ConvLearner.pretrained(arch, data, precompute=True)\n",
    "learn.fit(lrs=1e-2, n_cycle=3)"
   ]
  },
  {
   "cell_type": "markdown",
   "metadata": {},
   "source": [
    "** Train with data augmentation **\n"
   ]
  },
  {
   "cell_type": "code",
   "execution_count": 25,
   "metadata": {},
   "outputs": [
    {
     "data": {
      "application/vnd.jupyter.widget-view+json": {
       "model_id": "0ea79d3fd63948289d3f529c576fabba",
       "version_major": 2,
       "version_minor": 0
      },
      "text/plain": [
       "HBox(children=(IntProgress(value=0, description='Epoch', max=5), HTML(value='')))"
      ]
     },
     "metadata": {},
     "output_type": "display_data"
    },
    {
     "name": "stdout",
     "output_type": "stream",
     "text": [
      "epoch      trn_loss   val_loss   accuracy                  \n",
      "    0      0.307917   0.241636   0.876543  \n",
      "    1      0.310401   0.247199   0.872428                 \n",
      "    2      0.301667   0.221062   0.884774                  \n",
      "    3      0.291389   0.241686   0.872428                  \n",
      "    4      0.284156   0.204627   0.897119                 \n",
      "\n"
     ]
    },
    {
     "data": {
      "text/plain": [
       "[array([0.20463]), 0.8971193418090726]"
      ]
     },
     "execution_count": 25,
     "metadata": {},
     "output_type": "execute_result"
    }
   ],
   "source": [
    "learn.precompute = False\n",
    "learn.fit(lrs=1e-2, n_cycle=5, cycle_len=1)"
   ]
  },
  {
   "cell_type": "markdown",
   "metadata": {},
   "source": [
    "** Train more with layer unfreezing **\n"
   ]
  },
  {
   "cell_type": "code",
   "execution_count": 29,
   "metadata": {},
   "outputs": [],
   "source": [
    "learn.unfreeze()"
   ]
  },
  {
   "cell_type": "code",
   "execution_count": 30,
   "metadata": {},
   "outputs": [],
   "source": [
    "lr=1e-2\n",
    "lr=np.array([lr/18,lr/6,lr/2])"
   ]
  },
  {
   "cell_type": "code",
   "execution_count": 31,
   "metadata": {},
   "outputs": [
    {
     "data": {
      "application/vnd.jupyter.widget-view+json": {
       "model_id": "d2c13257f6344693ae4272636d69126b",
       "version_major": 2,
       "version_minor": 0
      },
      "text/plain": [
       "HBox(children=(IntProgress(value=0, description='Epoch', max=7), HTML(value='')))"
      ]
     },
     "metadata": {},
     "output_type": "display_data"
    },
    {
     "name": "stdout",
     "output_type": "stream",
     "text": [
      "epoch      trn_loss   val_loss   accuracy                  \n",
      "    0      0.5184     0.226679   0.855967  \n",
      "    1      0.427658   0.264739   0.860082                  \n",
      "    2      0.355143   0.209731   0.880658                  \n",
      "    3      0.320402   0.21689    0.872428                 \n",
      "    4      0.283279   0.199564   0.872428                  \n",
      "    5      0.255386   0.189334   0.868313                  \n",
      "    6      0.235175   0.188947   0.868313                 \n",
      "\n"
     ]
    },
    {
     "data": {
      "text/plain": [
       "[array([0.18895]), 0.868312753522347]"
      ]
     },
     "execution_count": 31,
     "metadata": {},
     "output_type": "execute_result"
    }
   ],
   "source": [
    "learn.fit(lr, 3, cycle_len=1, cycle_mult=2)\n"
   ]
  },
  {
   "cell_type": "markdown",
   "metadata": {},
   "source": [
    "** calculate accuracy with test time augmentation **"
   ]
  },
  {
   "cell_type": "code",
   "execution_count": 32,
   "metadata": {},
   "outputs": [
    {
     "name": "stdout",
     "output_type": "stream",
     "text": [
      "                                             \r"
     ]
    },
    {
     "data": {
      "text/plain": [
       "(0.18232223386613391, 0.8888888888888888)"
      ]
     },
     "execution_count": 32,
     "metadata": {},
     "output_type": "execute_result"
    }
   ],
   "source": [
    "log_preds,y = learn.TTA()\n",
    "preds = np.mean(np.exp(log_preds),axis=0)\n",
    "(metrics.log_loss(y,preds), accuracy_np(preds,y))"
   ]
  },
  {
   "cell_type": "code",
   "execution_count": 33,
   "metadata": {},
   "outputs": [],
   "source": [
    "predicted_class = np.argmax(preds, axis=1)\n",
    "confidence = np.max(preds, axis=1)"
   ]
  },
  {
   "cell_type": "code",
   "execution_count": 34,
   "metadata": {},
   "outputs": [],
   "source": [
    "predictions_df = pd.DataFrame ({'actual': y, 'pred': predicted_class,'image':learn.data.val_ds.fnames,'conf':confidence})"
   ]
  },
  {
   "cell_type": "code",
   "execution_count": 35,
   "metadata": {},
   "outputs": [],
   "source": [
    "predictions_df['actual_class'] = predictions_df['actual'].apply(lambda x : data.classes[x])\n",
    "predictions_df['pred_class'] = predictions_df['pred'].apply(lambda x : data.classes[x])"
   ]
  },
  {
   "cell_type": "code",
   "execution_count": 39,
   "metadata": {},
   "outputs": [
    {
     "data": {
      "text/html": [
       "<div>\n",
       "<style scoped>\n",
       "    .dataframe tbody tr th:only-of-type {\n",
       "        vertical-align: middle;\n",
       "    }\n",
       "\n",
       "    .dataframe tbody tr th {\n",
       "        vertical-align: top;\n",
       "    }\n",
       "\n",
       "    .dataframe thead th {\n",
       "        text-align: right;\n",
       "    }\n",
       "</style>\n",
       "<table border=\"1\" class=\"dataframe\">\n",
       "  <thead>\n",
       "    <tr style=\"text-align: right;\">\n",
       "      <th></th>\n",
       "      <th>actual</th>\n",
       "      <th>pred</th>\n",
       "      <th>image</th>\n",
       "      <th>conf</th>\n",
       "      <th>actual_class</th>\n",
       "      <th>pred_class</th>\n",
       "    </tr>\n",
       "  </thead>\n",
       "  <tbody>\n",
       "    <tr>\n",
       "      <th>0</th>\n",
       "      <td>0</td>\n",
       "      <td>0</td>\n",
       "      <td>valid/acer_palmatum/13001152966643.jpg</td>\n",
       "      <td>0.997140</td>\n",
       "      <td>acer_palmatum</td>\n",
       "      <td>acer_palmatum</td>\n",
       "    </tr>\n",
       "    <tr>\n",
       "      <th>1</th>\n",
       "      <td>0</td>\n",
       "      <td>0</td>\n",
       "      <td>valid/acer_palmatum/13001152962949.jpg</td>\n",
       "      <td>0.996189</td>\n",
       "      <td>acer_palmatum</td>\n",
       "      <td>acer_palmatum</td>\n",
       "    </tr>\n",
       "    <tr>\n",
       "      <th>2</th>\n",
       "      <td>0</td>\n",
       "      <td>0</td>\n",
       "      <td>valid/acer_palmatum/13001152960756.jpg</td>\n",
       "      <td>0.996231</td>\n",
       "      <td>acer_palmatum</td>\n",
       "      <td>acer_palmatum</td>\n",
       "    </tr>\n",
       "    <tr>\n",
       "      <th>3</th>\n",
       "      <td>0</td>\n",
       "      <td>0</td>\n",
       "      <td>valid/acer_palmatum/13001152963177.jpg</td>\n",
       "      <td>0.997035</td>\n",
       "      <td>acer_palmatum</td>\n",
       "      <td>acer_palmatum</td>\n",
       "    </tr>\n",
       "    <tr>\n",
       "      <th>4</th>\n",
       "      <td>0</td>\n",
       "      <td>0</td>\n",
       "      <td>valid/acer_palmatum/1249061360_0000.jpg</td>\n",
       "      <td>0.994954</td>\n",
       "      <td>acer_palmatum</td>\n",
       "      <td>acer_palmatum</td>\n",
       "    </tr>\n",
       "    <tr>\n",
       "      <th>5</th>\n",
       "      <td>0</td>\n",
       "      <td>0</td>\n",
       "      <td>valid/acer_palmatum/1259110850_0110.jpg</td>\n",
       "      <td>0.996616</td>\n",
       "      <td>acer_palmatum</td>\n",
       "      <td>acer_palmatum</td>\n",
       "    </tr>\n",
       "    <tr>\n",
       "      <th>6</th>\n",
       "      <td>0</td>\n",
       "      <td>0</td>\n",
       "      <td>valid/acer_palmatum/13001152963635.jpg</td>\n",
       "      <td>0.987023</td>\n",
       "      <td>acer_palmatum</td>\n",
       "      <td>acer_palmatum</td>\n",
       "    </tr>\n",
       "    <tr>\n",
       "      <th>7</th>\n",
       "      <td>0</td>\n",
       "      <td>0</td>\n",
       "      <td>valid/acer_palmatum/13001152966520.jpg</td>\n",
       "      <td>0.996898</td>\n",
       "      <td>acer_palmatum</td>\n",
       "      <td>acer_palmatum</td>\n",
       "    </tr>\n",
       "    <tr>\n",
       "      <th>8</th>\n",
       "      <td>0</td>\n",
       "      <td>0</td>\n",
       "      <td>valid/acer_palmatum/13001152968760.jpg</td>\n",
       "      <td>0.968169</td>\n",
       "      <td>acer_palmatum</td>\n",
       "      <td>acer_palmatum</td>\n",
       "    </tr>\n",
       "    <tr>\n",
       "      <th>9</th>\n",
       "      <td>0</td>\n",
       "      <td>0</td>\n",
       "      <td>valid/acer_palmatum/13001152961059.jpg</td>\n",
       "      <td>0.996839</td>\n",
       "      <td>acer_palmatum</td>\n",
       "      <td>acer_palmatum</td>\n",
       "    </tr>\n",
       "  </tbody>\n",
       "</table>\n",
       "</div>"
      ],
      "text/plain": [
       "   actual  pred                                    image      conf  \\\n",
       "0       0     0   valid/acer_palmatum/13001152966643.jpg  0.997140   \n",
       "1       0     0   valid/acer_palmatum/13001152962949.jpg  0.996189   \n",
       "2       0     0   valid/acer_palmatum/13001152960756.jpg  0.996231   \n",
       "3       0     0   valid/acer_palmatum/13001152963177.jpg  0.997035   \n",
       "4       0     0  valid/acer_palmatum/1249061360_0000.jpg  0.994954   \n",
       "5       0     0  valid/acer_palmatum/1259110850_0110.jpg  0.996616   \n",
       "6       0     0   valid/acer_palmatum/13001152963635.jpg  0.987023   \n",
       "7       0     0   valid/acer_palmatum/13001152966520.jpg  0.996898   \n",
       "8       0     0   valid/acer_palmatum/13001152968760.jpg  0.968169   \n",
       "9       0     0   valid/acer_palmatum/13001152961059.jpg  0.996839   \n",
       "\n",
       "    actual_class     pred_class  \n",
       "0  acer_palmatum  acer_palmatum  \n",
       "1  acer_palmatum  acer_palmatum  \n",
       "2  acer_palmatum  acer_palmatum  \n",
       "3  acer_palmatum  acer_palmatum  \n",
       "4  acer_palmatum  acer_palmatum  \n",
       "5  acer_palmatum  acer_palmatum  \n",
       "6  acer_palmatum  acer_palmatum  \n",
       "7  acer_palmatum  acer_palmatum  \n",
       "8  acer_palmatum  acer_palmatum  \n",
       "9  acer_palmatum  acer_palmatum  "
      ]
     },
     "execution_count": 39,
     "metadata": {},
     "output_type": "execute_result"
    }
   ],
   "source": [
    "predictions_df.head(10)\n"
   ]
  },
  {
   "cell_type": "code",
   "execution_count": 52,
   "metadata": {},
   "outputs": [],
   "source": [
    "def predict_class(image_path):\n",
    "    trn_tfms, val_tfms = tfms_from_model(arch, sz)\n",
    "    im = val_tfms(np.array(open_image(image_path)))\n",
    "\n",
    "    preds = learn.predict_array(im[None])\n",
    "    class_idx = np.argmax(preds)\n",
    "    print(data.classes[class_idx],np.max(preds))\n",
    "    \n",
    "    img = PIL.Image.open(image_path);\n",
    "    #return img\n",
    "    \n",
    "    return helper.get_top_n_predictions(np.exp(preds), data.classes)\n",
    "    #return np.argmax(preds)\n",
    "\n",
    "def predict_class_web(url,ext=\"jpg\"):\n",
    "    url_hash = hashlib.md5(url.encode('utf-8')).hexdigest()\n",
    "    file_name = f'data/downloaded/{url_hash}.{ext}'\n",
    "    f = open(file_name, 'wb')\n",
    "    f.write(request.urlopen(url).read())\n",
    "    f.close()\n",
    "    \n",
    "    return predict_class(file_name)"
   ]
  },
  {
   "cell_type": "code",
   "execution_count": 53,
   "metadata": {},
   "outputs": [],
   "source": [
    "!mkdir -p data/downloaded"
   ]
  },
  {
   "cell_type": "code",
   "execution_count": 58,
   "metadata": {},
   "outputs": [
    {
     "name": "stdout",
     "output_type": "stream",
     "text": [
      "fraxinus_nigra -0.30222416\n"
     ]
    },
    {
     "data": {
      "text/plain": [
       "[('fraxinus_nigra', 0.73917234),\n",
       " ('juglans_cinerea', 0.2173283),\n",
       " ('aesculus_pavi', 0.020245008),\n",
       " ('prunus_sargentii', 0.01457027),\n",
       " ('cryptomeria_japonica', 0.002758029)]"
      ]
     },
     "execution_count": 58,
     "metadata": {},
     "output_type": "execute_result"
    }
   ],
   "source": [
    "predict_class_web(\"http://dendroapp.frec.vt.edu/VT_Assets/Fact_Sheets/images/Juglans%20cinerea/leaf1.jpg\")"
   ]
  },
  {
   "cell_type": "markdown",
   "metadata": {},
   "source": [
    "** Confusion Matrix**"
   ]
  },
  {
   "cell_type": "code",
   "execution_count": 40,
   "metadata": {},
   "outputs": [],
   "source": [
    "labels = learn.data.classes\n",
    "cm = confusion_matrix(predictions_df['actual'], predictions_df['pred'])"
   ]
  },
  {
   "cell_type": "code",
   "execution_count": 59,
   "metadata": {},
   "outputs": [
    {
     "data": {
      "image/png": "[encoded data removed]",
      "text/plain": [
       "<Figure size 1800x1800 with 2 Axes>"
      ]
     },
     "metadata": {},
     "output_type": "display_data"
    }
   ],
   "source": [
    "fig, ax = plt.subplots(figsize=(25, 25))\n",
    "_ = sns.heatmap(cm, ax=ax, yticklabels=labels, xticklabels=labels, robust=True)"
   ]
  },
  {
   "cell_type": "code",
   "execution_count": null,
   "metadata": {},
   "outputs": [],
   "source": []
  }
 ],
 "metadata": {
  "kernelspec": {
   "display_name": "Python 3",
   "language": "python",
   "name": "python3"
  },
  "language_info": {
   "codemirror_mode": {
    "name": "ipython",
    "version": 3
   },
   "file_extension": ".py",
   "mimetype": "text/x-python",
   "name": "python",
   "nbconvert_exporter": "python",
   "pygments_lexer": "ipython3",
   "version": "3.6.5"
  }
 },
 "nbformat": 4,
 "nbformat_minor": 2
}
